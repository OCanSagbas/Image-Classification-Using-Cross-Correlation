{
  "nbformat": 4,
  "nbformat_minor": 0,
  "metadata": {
    "colab": {
      "provenance": [],
      "authorship_tag": "ABX9TyMv2TsILxwBMS/SefoxQVQS",
      "include_colab_link": true
    },
    "kernelspec": {
      "name": "python3",
      "display_name": "Python 3"
    },
    "language_info": {
      "name": "python"
    }
  },
  "cells": [
    {
      "cell_type": "markdown",
      "metadata": {
        "id": "view-in-github",
        "colab_type": "text"
      },
      "source": [
        "<a href=\"https://colab.research.google.com/github/OCanSagbas/Image-Classification-Using-Cross-Correlation/blob/main/Image_Classification_Using_Cross_Correlation.ipynb\" target=\"_parent\"><img src=\"https://colab.research.google.com/assets/colab-badge.svg\" alt=\"Open In Colab\"/></a>"
      ]
    },
    {
      "cell_type": "code",
      "execution_count": null,
      "metadata": {
        "id": "w7XubUrLjP0R"
      },
      "outputs": [],
      "source": [
        "import cv2\n",
        "import numpy as np\n",
        "from skimage.feature import hog\n",
        "from google.colab import drive\n",
        "from google.colab.patches import cv2_imshow\n",
        "import os\n",
        "import string\n"
      ]
    },
    {
      "cell_type": "code",
      "source": [
        "drive.mount('/content/drive')\n",
        "target_path = 'drive/MyDrive/dataset/target'\n",
        "template_path = 'drive/MyDrive/dataset/template'"
      ],
      "metadata": {
        "id": "KlmQsetkpSUb"
      },
      "execution_count": null,
      "outputs": []
    },
    {
      "cell_type": "code",
      "source": [
        "# NCC fonksiyonu\n",
        "def normalized_cross_correlation(template, target):\n",
        "    result = cv2.matchTemplate(target, template, cv2.TM_CCORR_NORMED)\n",
        "    _, max_val, _, max_loc = cv2.minMaxLoc(result)\n",
        "    return max_val, max_loc\n",
        "\n",
        "# HOG ve Grayscale uygulayan fonksiyon\n",
        "def preprocess_image(image_path):\n",
        "    img = cv2.imread(image_path, cv2.IMREAD_GRAYSCALE)\n",
        "    hog = cv2.HOGDescriptor()\n",
        "    features = hog.compute(img)\n",
        "    return img, features\n",
        "\n",
        "# Template'leri yükle\n",
        "templates = []\n",
        "template_names = []\n",
        "for template_name in os.listdir(template_path):\n",
        "    template_image_path = os.path.join(template_path, template_name)\n",
        "    template, _ = preprocess_image(template_image_path)\n",
        "    templates.append(template)\n",
        "    template_names.append(template_name)\n",
        "\n",
        "# Her bir template için en yüksek korelasyon değeri, bu değere karşılık gelen target adını ve eşleşen bölgeyi tutacak sözlük\n",
        "max_correlations = {template_name: {'max_correlation': 0, 'max_target_name': '', 'max_loc': (0, 0)} for template_name in template_names}\n",
        "\n",
        "# Target'ları ve her bir target içindeki görselleri yükle\n",
        "for target_folder_name in os.listdir(target_path):\n",
        "    target_folder_path = os.path.join(target_path, target_folder_name)\n",
        "\n",
        "    for template_name, template in zip(template_names, templates):\n",
        "        max_correlation, max_loc = 0, (0, 0)\n",
        "        max_target_name = \"\"\n",
        "\n",
        "        for target_image_name in os.listdir(target_folder_path):\n",
        "            target_image_path = os.path.join(target_folder_path, target_image_name)\n",
        "            target, target_features = preprocess_image(target_image_path)\n",
        "\n",
        "            correlation, loc = normalized_cross_correlation(template, target)\n",
        "\n",
        "            if correlation > max_correlation:\n",
        "                max_correlation = correlation\n",
        "                max_target_name = target_image_name\n",
        "                max_loc = loc\n",
        "\n",
        "        # Sözlüğü güncelle\n",
        "        if max_correlation > max_correlations[template_name]['max_correlation']:\n",
        "            max_correlations[template_name]['max_correlation'] = max_correlation\n",
        "            max_correlations[template_name]['max_target_name'] = f\"{target_folder_name}/{max_target_name}\"\n",
        "            max_correlations[template_name]['max_loc'] = max_loc\n",
        "\n",
        "# Sonuçları yazdır ve görselleri çiz\n",
        "for template_name, values in max_correlations.items():\n",
        "    print(f\"Template: {template_name}, Max Correlation: {values['max_correlation']}, Max Target: {values['max_target_name']}\")\n",
        "\n",
        "    # Eğer max_target_name değeri boşsa hata verme ve devam et\n",
        "    if not values['max_target_name']:\n",
        "        print(\"No matching target image.\")\n",
        "        continue\n",
        "\n",
        "    # Eşleşen görseli ve dikdörtgen sınırlayıcı kutuyu al\n",
        "    target_folder, target_name = values['max_target_name'].split('/')\n",
        "    target_image_path = os.path.join(target_path, target_folder, target_name)\n",
        "    template_image_path = os.path.join(template_path, template_name)\n",
        "\n",
        "    target_img = cv2.imread(target_image_path)\n",
        "    template_img = cv2.imread(template_image_path)\n",
        "\n",
        "    # Eşleşen bölgeyi bul\n",
        "    h, w = template_img.shape[:2]\n",
        "    top_left = values['max_loc']\n",
        "    bottom_right = (top_left[0] + w, top_left[1] + h)\n",
        "\n",
        "    # Dikdörtgen çiz\n",
        "    cv2.rectangle(target_img, top_left, bottom_right, (255, 0, 0), 2)\n",
        "\n",
        "    # Görselleri göster\n",
        "    cv2_imshow(template_img)\n",
        "    cv2_imshow(target_img)\n"
      ],
      "metadata": {
        "id": "jB-5fr2PTS0U"
      },
      "execution_count": null,
      "outputs": []
    }
  ]
}